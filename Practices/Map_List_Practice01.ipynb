{
 "cells": [
  {
   "cell_type": "markdown",
   "id": "c76d5d39-b00e-49e1-bde9-d7319ab683b9",
   "metadata": {},
   "source": [
    "# OOP (2024 Fall) 실습01 : Map과 List 활용 연습"
   ]
  },
  {
   "cell_type": "markdown",
   "id": "da2be42d-7d22-451b-a047-43f78e2500a4",
   "metadata": {},
   "source": [
    "- 이름: 윤종휘\n",
    "- 학번: 20232958"
   ]
  },
  {
   "cell_type": "code",
   "execution_count": 22,
   "id": "5d052bcf-94b0-478a-afa1-e3c1b20a9b6a",
   "metadata": {
    "jp-MarkdownHeadingCollapsed": true
   },
   "outputs": [
    {
     "name": "stdout",
     "output_type": "stream",
     "text": [
      "[초기 routeMap]\n",
      "강릉 -> []\n",
      "전주 -> [여수]\n",
      "익산 -> [광주, 전주]\n",
      "서울 -> [원주, 천안]\n",
      "부산 -> []\n",
      "안동 -> []\n",
      "평창 -> [강릉]\n",
      "대전 -> [공주, 대구, 익산]\n",
      "공주 -> [익산]\n",
      "원주 -> [평창, 안동]\n",
      "목포 -> []\n",
      "여수 -> []\n",
      "천안 -> [대전]\n",
      "대구 -> [부산]\n",
      "광주 -> [목포]\n",
      "\n",
      "[hasPath 함수 테스트 결과]\n",
      "서울 -> 강릉: true\n",
      "서울 -> 부산: true\n",
      "서울 -> 여수: true\n",
      "부산 -> 서울: false\n"
     ]
    }
   ],
   "source": [
    "import java.util.*;\n",
    "\n",
    "var routeMap = new HashMap<String, List<String>>();\n",
    "\n",
    "var cities = new String[]{\n",
    "    \"서울\", \"원주\", \"평창\", \"강릉\", \"안동\",\n",
    "    \"천안\", \"대전\", \"공주\", \"대구\", \"부산\",\n",
    "    \"익산\", \"광주\", \"목포\", \"전주\", \"여수\"\n",
    "};\n",
    "\n",
    "for (var city : cities) {\n",
    "    routeMap.put(city, new ArrayList<>());\n",
    "}\n",
    "\n",
    "routeMap.get(\"서울\").add(\"원주\");\n",
    "routeMap.get(\"원주\").add(\"평창\");\n",
    "routeMap.get(\"평창\").add(\"강릉\");\n",
    "routeMap.get(\"원주\").add(\"안동\");\n",
    "routeMap.get(\"서울\").add(\"천안\");\n",
    "routeMap.get(\"천안\").add(\"대전\");\n",
    "routeMap.get(\"대전\").add(\"공주\");\n",
    "routeMap.get(\"대전\").add(\"대구\");\n",
    "routeMap.get(\"대구\").add(\"부산\");\n",
    "routeMap.get(\"공주\").add(\"익산\");\n",
    "routeMap.get(\"익산\").add(\"광주\");\n",
    "routeMap.get(\"광주\").add(\"목포\");\n",
    "routeMap.get(\"대전\").add(\"익산\");\n",
    "routeMap.get(\"익산\").add(\"전주\");\n",
    "routeMap.get(\"전주\").add(\"여수\");\n",
    "\n",
    "// 경로 판별 hasPath 함수\n",
    "boolean hasPath(String orig, String dest) {\n",
    "    if (orig.equals(dest)) {\n",
    "        return true;\n",
    "    }\n",
    "\n",
    "    var connections = routeMap.get(orig);\n",
    "    if (connections == null) {\n",
    "        return false;\n",
    "    }\n",
    "\n",
    "    for (var city : connections) {\n",
    "        if (hasPath(city, dest)) {\n",
    "            return true;\n",
    "        }\n",
    "    }\n",
    "\n",
    "    return false;\n",
    "}\n",
    "\n",
    "System.out.println(\"[초기 routeMap]\");\n",
    "for (var city : routeMap.keySet()) {\n",
    "    System.out.println(city + \" -> \" + routeMap.get(city));\n",
    "}\n",
    "\n",
    "System.out.println(\"\\n[hasPath 함수 테스트 결과]\");\n",
    "System.out.println(\"서울 -> 강릉: \" + hasPath(\"서울\", \"강릉\")); // true\n",
    "System.out.println(\"서울 -> 부산: \" + hasPath(\"서울\", \"부산\")); // true\n",
    "System.out.println(\"서울 -> 여수: \" + hasPath(\"서울\", \"여수\")); // true\n",
    "System.out.println(\"부산 -> 서울: \" + hasPath(\"부산\", \"서울\")); // false\n"
   ]
  },
  {
   "cell_type": "code",
   "execution_count": null,
   "id": "52e444b0-296a-4b39-8f93-23c123050912",
   "metadata": {},
   "outputs": [],
   "source": []
  }
 ],
 "metadata": {
  "kernelspec": {
   "display_name": "Java (rjk 2.1.0)",
   "language": "java",
   "name": "rapaio-jupyter-kernel"
  },
  "language_info": {
   "codemirror_mode": "java",
   "file_extension": ".jshell",
   "mimetype": "text/x-java-source",
   "name": "java",
   "nbconvert_exporter": "script",
   "pygments_lexer": "java",
   "version": "22.0.2+9"
  }
 },
 "nbformat": 4,
 "nbformat_minor": 5
}
