{
 "cells": [
  {
   "cell_type": "markdown",
   "id": "4035817a-1c18-4225-9c8f-3b666bd4eb4a",
   "metadata": {},
   "source": [
    "# **Hello Java Notebook**"
   ]
  },
  {
   "cell_type": "markdown",
   "id": "8996843d-3800-4df1-a362-bf28a3dd8c43",
   "metadata": {},
   "source": [
    "- 이름: 윤종휘\n",
    "- 학번: 20232958\n",
    "- Github Profile: https://github.com/Jongeume"
   ]
  },
  {
   "cell_type": "code",
   "execution_count": 1,
   "id": "d6717972-5c24-41ea-8086-e6db3c627f10",
   "metadata": {},
   "outputs": [
    {
     "name": "stdout",
     "output_type": "stream",
     "text": [
      "Jongeume\n"
     ]
    }
   ],
   "source": [
    "%%bash\n",
    "echo $GITHUB_USER"
   ]
  },
  {
   "cell_type": "code",
   "execution_count": 2,
   "id": "6af62850-30d9-4db4-b2ac-02b6242a2d29",
   "metadata": {},
   "outputs": [
    {
     "name": "stdout",
     "output_type": "stream",
     "text": [
      "openjdk 22.0.2 2024-07-16\n",
      "OpenJDK Runtime Environment Temurin-22.0.2+9 (build 22.0.2+9)\n",
      "OpenJDK 64-Bit Server VM Temurin-22.0.2+9 (build 22.0.2+9, mixed mode, sharing)\n"
     ]
    }
   ],
   "source": [
    "%%bash\n",
    "java --version"
   ]
  },
  {
   "cell_type": "code",
   "execution_count": 3,
   "id": "65e95167-b0a9-49a3-aa5d-c16513bf2fe8",
   "metadata": {},
   "outputs": [
    {
     "data": {
      "text/plain": [
       "22.0.2+9"
      ]
     },
     "execution_count": 3,
     "metadata": {},
     "output_type": "execute_result"
    }
   ],
   "source": [
    "Runtime.version()"
   ]
  },
  {
   "cell_type": "code",
   "execution_count": null,
   "id": "4ae57de6-37da-4234-8c78-8f7e6c169345",
   "metadata": {},
   "outputs": [],
   "source": []
  }
 ],
 "metadata": {
  "kernelspec": {
   "display_name": "Java (rjk 2.1.0)",
   "language": "java",
   "name": "rapaio-jupyter-kernel"
  },
  "language_info": {
   "codemirror_mode": "java",
   "file_extension": ".jshell",
   "mimetype": "text/x-java-source",
   "name": "java",
   "nbconvert_exporter": "script",
   "pygments_lexer": "java",
   "version": "22.0.2+9"
  }
 },
 "nbformat": 4,
 "nbformat_minor": 5
}
